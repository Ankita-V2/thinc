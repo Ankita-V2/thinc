{
 "cells": [
  {
   "cell_type": "markdown",
   "metadata": {},
   "source": [
    "# Benchmarking Thinc layers with a custom `benchmark` layer\n",
    "\n",
    "This notebook shows how to write a `benchmark` layer that can wrap any layer(s) in your network and that **logs the execution times** of the initialization, forward pass and backward pass. The benchmak layer can also be mapped to an operator like `@` to make it easy to add debugging to your network."
   ]
  },
  {
   "cell_type": "code",
   "execution_count": null,
   "metadata": {},
   "outputs": [],
   "source": [
    "!pip install thinc"
   ]
  },
  {
   "cell_type": "markdown",
   "metadata": {},
   "source": [
    "To log the results, we first set up a custom logger using Python's `logging` module. You could also just print the stats instead, but using `logging` is cleaner, since it lets other users modify the logger's behavior more easily, and lets separates the logs from other output and write it to a file (e.g. if you're benchmarking several layers during training). The following logging config will output the date and time, the name of the logger and the logged results."
   ]
  },
  {
   "cell_type": "code",
   "execution_count": 2,
   "metadata": {},
   "outputs": [],
   "source": [
    "import logging\n",
    "\n",
    "logger = logging.getLogger(\"thinc:benchmark\")\n",
    "if not logger.hasHandlers():  # prevent Jupyter from adding multiple loggers\n",
    "    formatter = logging.Formatter('%(asctime)s %(name)s  %(message)s', datefmt=\"%Y-%m-%d %H:%M:%S\")\n",
    "    handler = logging.StreamHandler()\n",
    "    handler.setFormatter(formatter)\n",
    "    logger.addHandler(handler)\n",
    "    logger.setLevel(logging.DEBUG)"
   ]
  },
  {
   "cell_type": "markdown",
   "metadata": {},
   "source": [
    "Here's a minimalistic time logger that can be initialized with the name of a given layer, and can track several events (e.g. `\"forward\"` and `\"backward\"`). When the `TimeLogger.end` method is called, the output is formatted nicely and the elapsed time is logged with the logger name and colored label."
   ]
  },
  {
   "cell_type": "code",
   "execution_count": 3,
   "metadata": {},
   "outputs": [],
   "source": [
    "from timeit import default_timer\n",
    "from wasabi import color\n",
    "\n",
    "\n",
    "class TimeLogger:\n",
    "    def __init__(self, name):\n",
    "        self.colors = {\"forward\": \"green\", \"backward\": \"blue\"}\n",
    "        self.name = name\n",
    "        self.timers = {}\n",
    "        \n",
    "    def start(self, name):\n",
    "        self.timers[name] = default_timer()\n",
    "        \n",
    "    def end(self, name):\n",
    "        result = default_timer() - self.timers[name]\n",
    "        label = f\"{name.upper():<8}\"\n",
    "        label = color(label, self.colors.get(name), bold=True)\n",
    "        logger.debug(f\"{self.name:<12} | {label} | {result:.6f}\")"
   ]
  },
  {
   "cell_type": "markdown",
   "metadata": {},
   "source": [
    "The `benchmark` layer now has to wrap the forward pass, backward pass and initialization of the layer it wraps and log the execution times. It then returns a Thinc model instance with the custom `forward` function and a custom `init` function. We'll also allow setting a custom `name` to make it easier to tell multiple wrapped benchmark layers apart."
   ]
  },
  {
   "cell_type": "code",
   "execution_count": 4,
   "metadata": {},
   "outputs": [],
   "source": [
    "from thinc.api import Model\n",
    "        \n",
    "def benchmark(layer, name=None):\n",
    "    name = name if name is not None else layer.name\n",
    "    t = TimeLogger(name)\n",
    "    \n",
    "    def init(model, X, Y):\n",
    "        t.start(\"init\")\n",
    "        result = layer.initialize(X, Y)\n",
    "        t.end(\"init\")\n",
    "        return result\n",
    "        \n",
    "    def forward(model, X, is_train):\n",
    "        t.start(\"forward\")\n",
    "        layer_Y, layer_callback = layer(X, is_train=is_train)\n",
    "        t.end(\"forward\")\n",
    "        \n",
    "        def backprop(dY):\n",
    "            t.start(\"backward\")\n",
    "            result = layer_callback(dY)\n",
    "            t.end(\"backward\")\n",
    "            return result\n",
    "        \n",
    "        return layer_Y, backprop\n",
    "        \n",
    "    return Model(f\"benchmark:{layer.name}\", forward, init=init) "
   ]
  },
  {
   "cell_type": "markdown",
   "metadata": {},
   "source": [
    "---\n",
    "\n",
    "## Usage examples\n",
    "\n",
    "### Using the `benchmark` layer as a function\n",
    "\n",
    "We can now wrap one or more layers (including nested layers) with the `benchmark` function. This is the original model:\n",
    "\n",
    "```python\n",
    "model = chain(Linear(1), Linear(1))\n",
    "```"
   ]
  },
  {
   "cell_type": "code",
   "execution_count": 6,
   "metadata": {},
   "outputs": [
    {
     "name": "stderr",
     "output_type": "stream",
     "text": [
      "2020-01-21 19:14:10 thinc:benchmark  linear       | \u001b[1mINIT    \u001b[0m | 0.000337\n",
      "2020-01-21 19:14:10 thinc:benchmark  linear       | \u001b[1;38;5;2mFORWARD \u001b[0m | 0.000497\n",
      "2020-01-21 19:14:10 thinc:benchmark  outer        | \u001b[1mINIT    \u001b[0m | 0.003808\n",
      "2020-01-21 19:14:10 thinc:benchmark  linear       | \u001b[1;38;5;2mFORWARD \u001b[0m | 0.000139\n",
      "2020-01-21 19:14:10 thinc:benchmark  outer        | \u001b[1;38;5;2mFORWARD \u001b[0m | 0.001537\n",
      "2020-01-21 19:14:10 thinc:benchmark  linear       | \u001b[1;38;5;4mBACKWARD\u001b[0m | 0.000069\n",
      "2020-01-21 19:14:10 thinc:benchmark  outer        | \u001b[1;38;5;4mBACKWARD\u001b[0m | 0.001613\n"
     ]
    }
   ],
   "source": [
    "import numpy\n",
    "from thinc.api import chain, Linear\n",
    "\n",
    "X = numpy.zeros((1, 2), dtype=\"f\")\n",
    "\n",
    "model = benchmark(chain(benchmark(Linear(1)), Linear(1)), name=\"outer\")\n",
    "model.initialize(X=X)\n",
    "Y, backprop = model(X, is_train=False)\n",
    "dX = backprop(Y)"
   ]
  },
  {
   "cell_type": "markdown",
   "metadata": {},
   "source": [
    "### Using the `benchmark` layer as an operator\n",
    "\n",
    "Alternatively, we can also use `Model.define_operators` to map `benchmark` to an operator like `@`. The left argument of the operator is the first agument passed into the function (the layer) and the right argument is the second argument (the name). The following example wraps the whole network (two chained `Linear` layers) in a benchmark layer named `\"outer\"`, and the first `Linear` layer in a benchmark layern named `\"first\"`."
   ]
  },
  {
   "cell_type": "code",
   "execution_count": 7,
   "metadata": {
    "scrolled": true
   },
   "outputs": [
    {
     "name": "stderr",
     "output_type": "stream",
     "text": [
      "2020-01-21 19:14:13 thinc:benchmark  first        | \u001b[1mINIT    \u001b[0m | 0.000298\n",
      "2020-01-21 19:14:13 thinc:benchmark  first        | \u001b[1;38;5;2mFORWARD \u001b[0m | 0.000235\n",
      "2020-01-21 19:14:13 thinc:benchmark  outer        | \u001b[1mINIT    \u001b[0m | 0.005356\n",
      "2020-01-21 19:14:13 thinc:benchmark  first        | \u001b[1;38;5;2mFORWARD \u001b[0m | 0.000172\n",
      "2020-01-21 19:14:13 thinc:benchmark  outer        | \u001b[1;38;5;2mFORWARD \u001b[0m | 0.006204\n",
      "2020-01-21 19:14:13 thinc:benchmark  first        | \u001b[1;38;5;4mBACKWARD\u001b[0m | 0.000097\n",
      "2020-01-21 19:14:13 thinc:benchmark  outer        | \u001b[1;38;5;4mBACKWARD\u001b[0m | 0.001783\n"
     ]
    }
   ],
   "source": [
    "from thinc.api import Model\n",
    "\n",
    "with Model.define_operators({\">>\": chain, \"@\": benchmark}):\n",
    "    model = (Linear(1) @ \"first\" >> Linear(1)) @ \"outer\"\n",
    "    \n",
    "model.initialize(X=X)\n",
    "Y, backprop = model(X, is_train=True)\n",
    "dX = backprop(Y)"
   ]
  },
  {
   "cell_type": "markdown",
   "metadata": {},
   "source": [
    "### Using the `benchmark` layer during training"
   ]
  },
  {
   "cell_type": "code",
   "execution_count": 10,
   "metadata": {},
   "outputs": [
    {
     "name": "stderr",
     "output_type": "stream",
     "text": [
      "2020-01-21 19:14:50 thinc:benchmark  relu1        | \u001b[1mINIT    \u001b[0m | 0.000903\n",
      "2020-01-21 19:14:50 thinc:benchmark  relu1        | \u001b[1;38;5;2mFORWARD \u001b[0m | 0.000236\n",
      "2020-01-21 19:14:50 thinc:benchmark  relu2        | \u001b[1mINIT    \u001b[0m | 0.001982\n",
      "2020-01-21 19:14:50 thinc:benchmark  relu2        | \u001b[1;38;5;2mFORWARD \u001b[0m | 0.000525\n",
      "2020-01-21 19:14:50 thinc:benchmark  relu1        | \u001b[1;38;5;2mFORWARD \u001b[0m | 0.000717\n",
      "2020-01-21 19:14:50 thinc:benchmark  relu2        | \u001b[1;38;5;2mFORWARD \u001b[0m | 0.000187\n",
      "2020-01-21 19:14:50 thinc:benchmark  relu1        | \u001b[1;38;5;2mFORWARD \u001b[0m | 0.000574\n",
      "2020-01-21 19:14:50 thinc:benchmark  relu2        | \u001b[1;38;5;2mFORWARD \u001b[0m | 0.000234\n",
      "2020-01-21 19:14:50 thinc:benchmark  relu2        | \u001b[1;38;5;4mBACKWARD\u001b[0m | 0.000153\n",
      "2020-01-21 19:14:50 thinc:benchmark  relu1        | \u001b[1;38;5;4mBACKWARD\u001b[0m | 0.000346\n",
      "2020-01-21 19:14:50 thinc:benchmark  relu1        | \u001b[1;38;5;2mFORWARD \u001b[0m | 0.000314\n",
      "2020-01-21 19:14:50 thinc:benchmark  relu2        | \u001b[1;38;5;2mFORWARD \u001b[0m | 0.000332\n",
      "2020-01-21 19:14:50 thinc:benchmark  relu2        | \u001b[1;38;5;4mBACKWARD\u001b[0m | 0.000095\n",
      "2020-01-21 19:14:50 thinc:benchmark  relu1        | \u001b[1;38;5;4mBACKWARD\u001b[0m | 0.000354\n",
      "2020-01-21 19:14:50 thinc:benchmark  relu1        | \u001b[1;38;5;2mFORWARD \u001b[0m | 0.000301\n",
      "2020-01-21 19:14:50 thinc:benchmark  relu2        | \u001b[1;38;5;2mFORWARD \u001b[0m | 0.001260\n",
      "2020-01-21 19:14:50 thinc:benchmark  relu2        | \u001b[1;38;5;4mBACKWARD\u001b[0m | 0.000174\n",
      "2020-01-21 19:14:50 thinc:benchmark  relu1        | \u001b[1;38;5;4mBACKWARD\u001b[0m | 0.000638\n",
      "2020-01-21 19:14:50 thinc:benchmark  relu1        | \u001b[1;38;5;2mFORWARD \u001b[0m | 0.000595\n",
      "2020-01-21 19:14:50 thinc:benchmark  relu2        | \u001b[1;38;5;2mFORWARD \u001b[0m | 0.000250\n",
      "2020-01-21 19:14:50 thinc:benchmark  relu2        | \u001b[1;38;5;4mBACKWARD\u001b[0m | 0.000087\n",
      "2020-01-21 19:14:50 thinc:benchmark  relu1        | \u001b[1;38;5;4mBACKWARD\u001b[0m | 0.000285\n",
      "2020-01-21 19:14:50 thinc:benchmark  relu1        | \u001b[1;38;5;2mFORWARD \u001b[0m | 0.000381\n",
      "2020-01-21 19:14:50 thinc:benchmark  relu2        | \u001b[1;38;5;2mFORWARD \u001b[0m | 0.000274\n",
      "2020-01-21 19:14:50 thinc:benchmark  relu2        | \u001b[1;38;5;4mBACKWARD\u001b[0m | 0.000116\n",
      "2020-01-21 19:14:50 thinc:benchmark  relu1        | \u001b[1;38;5;4mBACKWARD\u001b[0m | 0.000411\n",
      "2020-01-21 19:14:50 thinc:benchmark  relu1        | \u001b[1;38;5;2mFORWARD \u001b[0m | 0.000173\n",
      "2020-01-21 19:14:51 thinc:benchmark  relu2        | \u001b[1;38;5;2mFORWARD \u001b[0m | 0.000366\n",
      "2020-01-21 19:14:51 thinc:benchmark  relu2        | \u001b[1;38;5;4mBACKWARD\u001b[0m | 0.001375\n",
      "2020-01-21 19:14:51 thinc:benchmark  relu1        | \u001b[1;38;5;4mBACKWARD\u001b[0m | 0.000599\n",
      "2020-01-21 19:14:51 thinc:benchmark  relu1        | \u001b[1;38;5;2mFORWARD \u001b[0m | 0.000213\n",
      "2020-01-21 19:14:51 thinc:benchmark  relu2        | \u001b[1;38;5;2mFORWARD \u001b[0m | 0.000182\n",
      "2020-01-21 19:14:51 thinc:benchmark  relu2        | \u001b[1;38;5;4mBACKWARD\u001b[0m | 0.000913\n",
      "2020-01-21 19:14:51 thinc:benchmark  relu1        | \u001b[1;38;5;4mBACKWARD\u001b[0m | 0.000247\n",
      "2020-01-21 19:14:51 thinc:benchmark  relu1        | \u001b[1;38;5;2mFORWARD \u001b[0m | 0.000206\n",
      "2020-01-21 19:14:51 thinc:benchmark  relu2        | \u001b[1;38;5;2mFORWARD \u001b[0m | 0.000199\n",
      "2020-01-21 19:14:51 thinc:benchmark  relu2        | \u001b[1;38;5;4mBACKWARD\u001b[0m | 0.000158\n",
      "2020-01-21 19:14:51 thinc:benchmark  relu1        | \u001b[1;38;5;4mBACKWARD\u001b[0m | 0.000335\n",
      "2020-01-21 19:14:51 thinc:benchmark  relu1        | \u001b[1;38;5;2mFORWARD \u001b[0m | 0.000244\n",
      "2020-01-21 19:14:51 thinc:benchmark  relu2        | \u001b[1;38;5;2mFORWARD \u001b[0m | 0.000204\n",
      "2020-01-21 19:14:51 thinc:benchmark  relu2        | \u001b[1;38;5;4mBACKWARD\u001b[0m | 0.000211\n",
      "2020-01-21 19:14:51 thinc:benchmark  relu1        | \u001b[1;38;5;4mBACKWARD\u001b[0m | 0.000888\n",
      "2020-01-21 19:14:51 thinc:benchmark  relu1        | \u001b[1;38;5;2mFORWARD \u001b[0m | 0.000199\n",
      "2020-01-21 19:14:51 thinc:benchmark  relu2        | \u001b[1;38;5;2mFORWARD \u001b[0m | 0.000280\n",
      "2020-01-21 19:14:51 thinc:benchmark  relu2        | \u001b[1;38;5;4mBACKWARD\u001b[0m | 0.000073\n",
      "2020-01-21 19:14:51 thinc:benchmark  relu1        | \u001b[1;38;5;4mBACKWARD\u001b[0m | 0.002094\n"
     ]
    }
   ],
   "source": [
    "from thinc.api import Model, chain, ReLu, Softmax, Adam, evaluate_model_on_arrays, minibatch\n",
    "import ml_datasets\n",
    "\n",
    "n_hidden = 32\n",
    "dropout = 0.2\n",
    "\n",
    "with Model.define_operators({\">>\": chain, \"@\": benchmark}):\n",
    "    model = (\n",
    "        ReLu(nO=n_hidden, dropout=dropout) @ \"relu1\"\n",
    "        >> ReLu(nO=n_hidden, dropout=dropout) @ \"relu2\"\n",
    "        >> Softmax()\n",
    "    )\n",
    "\n",
    "X = numpy.zeros((5, 784), dtype=\"f\")\n",
    "Y = numpy.zeros((540, 10), dtype=\"f\")\n",
    "\n",
    "model.initialize(X=X[:5], Y=Y[:5])\n",
    "optimizer = Adam(0.001)\n",
    "indices = model.ops.xp.arange(X.shape[0], dtype=\"i\")\n",
    "for i in range(10):\n",
    "    model.ops.xp.random.shuffle(indices)\n",
    "    for idx_batch in minibatch(indices):\n",
    "        Yh, backprop = model.begin_update(X[idx_batch])\n",
    "        backprop(Yh - Y[idx_batch])\n",
    "        model.finish_update(optimizer)"
   ]
  }
 ],
 "metadata": {
  "kernelspec": {
   "display_name": "Python 3.7.2 64-bit ('.env': venv)",
   "language": "python",
   "name": "python37264bitenvvenv9eb7caf448714d3f8d7dc6238703fa1e"
  },
  "language_info": {
   "codemirror_mode": {
    "name": "ipython",
    "version": 3
   },
   "file_extension": ".py",
   "mimetype": "text/x-python",
   "name": "python",
   "nbconvert_exporter": "python",
   "pygments_lexer": "ipython3",
   "version": "3.7.2"
  }
 },
 "nbformat": 4,
 "nbformat_minor": 2
}
